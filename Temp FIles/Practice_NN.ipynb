{
  "nbformat": 4,
  "nbformat_minor": 0,
  "metadata": {
    "colab": {
      "provenance": [],
      "authorship_tag": "ABX9TyMCaa+NkZqBCh+AjUj4T9jk",
      "include_colab_link": true
    },
    "kernelspec": {
      "name": "python3",
      "display_name": "Python 3"
    },
    "language_info": {
      "name": "python"
    }
  },
  "cells": [
    {
      "cell_type": "markdown",
      "metadata": {
        "id": "view-in-github",
        "colab_type": "text"
      },
      "source": [
        "<a href=\"https://colab.research.google.com/github/VathareVinayak/NN_Practice/blob/main/Practice_NN.ipynb\" target=\"_parent\"><img src=\"https://colab.research.google.com/assets/colab-badge.svg\" alt=\"Open In Colab\"/></a>"
      ]
    },
    {
      "cell_type": "code",
      "execution_count": null,
      "metadata": {
        "id": "9u40_YZQ6WMK"
      },
      "outputs": [],
      "source": [
        "import numpy as np\n"
      ]
    },
    {
      "cell_type": "code",
      "source": [
        "def sigmoid(x):\n",
        "  return 1/(1+np.exp(-x))\n"
      ],
      "metadata": {
        "id": "BKyfPNTg6hbU"
      },
      "execution_count": null,
      "outputs": []
    },
    {
      "cell_type": "code",
      "source": [
        "X = np.array([0.3,0.5])\n",
        "W1 = np.array([[0.2, 0.4],\n",
        "               [0.1, 0.3]])\n",
        "B1 = np.array([0.1, 0.2])\n"
      ],
      "metadata": {
        "id": "hEwL_SLk6hEs"
      },
      "execution_count": null,
      "outputs": []
    },
    {
      "cell_type": "code",
      "source": [
        "W2 = np.array([0.6, 0.9])\n",
        "B2 = 0.05\n"
      ],
      "metadata": {
        "id": "_B1ckaDD6hJL"
      },
      "execution_count": null,
      "outputs": []
    },
    {
      "cell_type": "code",
      "source": [
        "Z1 = np.dot(X, W1) + B1\n"
      ],
      "metadata": {
        "id": "I8bq-Vxy6hMe"
      },
      "execution_count": null,
      "outputs": []
    },
    {
      "cell_type": "code",
      "source": [
        "A1 = sigmoid(Z1)\n"
      ],
      "metadata": {
        "id": "on71Pnk26hPE"
      },
      "execution_count": null,
      "outputs": []
    },
    {
      "cell_type": "code",
      "source": [
        "A1"
      ],
      "metadata": {
        "colab": {
          "base_uri": "https://localhost:8080/"
        },
        "id": "5rJM4Sxc6hRk",
        "outputId": "7cf71574-fffe-4d25-939d-06148975541b"
      },
      "execution_count": null,
      "outputs": [
        {
          "output_type": "execute_result",
          "data": {
            "text/plain": [
              "array([0.55230791, 0.61538376])"
            ]
          },
          "metadata": {},
          "execution_count": 25
        }
      ]
    },
    {
      "cell_type": "code",
      "source": [
        "Z2 = np.dot(A1, W2) + B2\n",
        "A2 = sigmoid(Z2)\n",
        "A2"
      ],
      "metadata": {
        "colab": {
          "base_uri": "https://localhost:8080/"
        },
        "id": "x5oW5HwU7Wip",
        "outputId": "6af3612f-8272-461b-9d03-ba373fb92b93"
      },
      "execution_count": null,
      "outputs": [
        {
          "output_type": "execute_result",
          "data": {
            "text/plain": [
              "np.float64(0.7181351590487226)"
            ]
          },
          "metadata": {},
          "execution_count": 26
        }
      ]
    },
    {
      "cell_type": "code",
      "source": [
        "# Import libraries\n",
        "from sklearn.model_selection import train_test_split\n",
        "from sklearn.naive_bayes import GaussianNB\n",
        "from sklearn.metrics import accuracy_score\n",
        "\n",
        "# Example dataset\n",
        "X = [[i, i+20] for i in range(1, 101)]    # 100 points\n",
        "y = [0 if i < 50 else 1 for i in range(1, 101)]\n",
        "\n",
        "\n",
        "# Split into training and testing\n",
        "X_train, X_test, y_train, y_test = train_test_split(X, y, test_size=0.2)\n",
        "\n",
        "# Create Naive Bayes model\n",
        "model = GaussianNB()\n",
        "\n",
        "# Train the model\n",
        "model.fit(X_train, y_train)\n",
        "\n",
        "# Predict\n",
        "y_pred = model.predict(X_test)\n",
        "\n",
        "# Evaluate\n",
        "print(\"Accuracy:\", accuracy_score(y_test, y_pred))\n"
      ],
      "metadata": {
        "colab": {
          "base_uri": "https://localhost:8080/"
        },
        "id": "7cpfLmAMzwsM",
        "outputId": "e503afca-f455-45d8-9e14-b39c6056d42d"
      },
      "execution_count": null,
      "outputs": [
        {
          "output_type": "stream",
          "name": "stdout",
          "text": [
            "Accuracy: 1.0\n"
          ]
        }
      ]
    },
    {
      "cell_type": "code",
      "source": [
        "import numpy as np\n",
        "\n",
        "# True value and predicted value\n",
        "y_true = np.array([3, 5, 2.5])\n",
        "y_pred = np.array([2.5, 5, 4])\n",
        "\n",
        "# Mean Squared Error Calculation\n",
        "mse = np.mean((y_true - y_pred)**2)\n",
        "print(\"Mean Squared Error:\", mse)\n",
        "\n"
      ],
      "metadata": {
        "id": "hSosBc-4zwnL",
        "colab": {
          "base_uri": "https://localhost:8080/"
        },
        "outputId": "355f54bd-c914-4194-a6cc-afe87c650105"
      },
      "execution_count": 2,
      "outputs": [
        {
          "output_type": "stream",
          "name": "stdout",
          "text": [
            "Mean Squared Error: 0.8333333333333334\n"
          ]
        }
      ]
    },
    {
      "cell_type": "code",
      "source": [
        "import numpy as np\n",
        "\n",
        "y_true = np.array([3, 5, 2.5])\n",
        "y_pred = np.array([2.5, 5, 4])\n",
        "\n",
        "# Mean Absolute Error Calculation\n",
        "mae = np.mean(np.abs(y_true - y_pred))\n",
        "print(\"Mean Absolute Error:\", mae)\n",
        ""
      ],
      "metadata": {
        "id": "vkPY5Az9zwkN",
        "colab": {
          "base_uri": "https://localhost:8080/"
        },
        "outputId": "9989aba1-a258-4dd9-c485-b4642ddef2d0"
      },
      "execution_count": 3,
      "outputs": [
        {
          "output_type": "stream",
          "name": "stdout",
          "text": [
            "Mean Absolute Error: 0.6666666666666666\n"
          ]
        }
      ]
    },
    {
      "cell_type": "code",
      "source": [],
      "metadata": {
        "id": "dFGEBeFPzwhL"
      },
      "execution_count": null,
      "outputs": []
    },
    {
      "cell_type": "code",
      "source": [],
      "metadata": {
        "id": "ENhHoi7LzweD"
      },
      "execution_count": null,
      "outputs": []
    },
    {
      "cell_type": "code",
      "source": [],
      "metadata": {
        "id": "BHPOVqPhzwar"
      },
      "execution_count": null,
      "outputs": []
    }
  ]
}